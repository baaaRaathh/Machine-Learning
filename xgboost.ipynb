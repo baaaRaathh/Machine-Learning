{
  "nbformat": 4,
  "nbformat_minor": 0,
  "metadata": {
    "colab": {
      "provenance": [],
      "authorship_tag": "ABX9TyNh6Gn4vKSJYojEA+tTPcXz",
      "include_colab_link": true
    },
    "kernelspec": {
      "name": "python3",
      "display_name": "Python 3"
    },
    "language_info": {
      "name": "python"
    }
  },
  "cells": [
    {
      "cell_type": "markdown",
      "metadata": {
        "id": "view-in-github",
        "colab_type": "text"
      },
      "source": [
        "<a href=\"https://colab.research.google.com/github/baaaRaathh/Machine-Learning/blob/main/xgboost.ipynb\" target=\"_parent\"><img src=\"https://colab.research.google.com/assets/colab-badge.svg\" alt=\"Open In Colab\"/></a>"
      ]
    },
    {
      "cell_type": "code",
      "execution_count": null,
      "metadata": {
        "id": "yhOlM6QYarya"
      },
      "outputs": [],
      "source": [
        "import numpy as np\n",
        "import pandas as pd\n",
        "from sklearn.model_selection import GridSearchCV , train_test_split\n",
        "from  xgboost import XGBClassifier\n",
        "from sklearn.metrics import accuracy_score"
      ]
    },
    {
      "cell_type": "code",
      "source": [
        "from google.colab import drive\n",
        "drive.mount('/content/gdrive')\n",
        "!ln -s /content/gdrive/My\\ Drive/ /mydrive\n",
        "!ls /mydrive"
      ],
      "metadata": {
        "id": "wzB2ocT0A-B-",
        "colab": {
          "base_uri": "https://localhost:8080/"
        },
        "outputId": "b0fb16ce-8c1f-425c-bbd6-77936094c3c3"
      },
      "execution_count": null,
      "outputs": [
        {
          "output_type": "stream",
          "name": "stdout",
          "text": [
            "Mounted at /content/gdrive\n",
            "'8 Sem Marksheet.jpeg'\t\t\t        IMG_20221223_135900_364.jpg\n",
            "'archive (7).zip'\t\t\t        IMG_20230102_232317_996.jpg\n",
            " audio_tests.txt\t\t\t        IMG_20230107_105458_039.jpg\n",
            " audio-utterances-3s.txt\t\t        IMG_20230107_105620_645.jpg\n",
            "'Barath Analyst.pdf'\t\t\t        IMG_20230117_173406_965.jpg\n",
            "'barath .gdoc'\t\t\t\t        IMG_20230117_230955_776.jpg\n",
            " BarathKumarSResume.gdoc\t\t        IMG_20230117_230955_825.jpg\n",
            "'barath Machine Learning.pdf'\t\t        IMG_20230122_234928_456.jpg\n",
            "\"barath's resume.pdf\"\t\t\t        IMG_20230122_235156_068.jpg\n",
            " can.zip\t\t\t\t        IMG_20230423_094226_853.jpg\n",
            "'Colab Notebooks'\t\t\t        IMG_20230423_094642_818.jpg\n",
            " Consumer_Complaints.csv\t\t        IMG_20230601_103428_153.jpg\n",
            "'Copy of barath Machine Learning.pdf'\t        IMG_20230601_103516_958.jpg\n",
            "'cyber resume (1).gdoc'\t\t\t        IMG_20230608_151417_625.jpg\n",
            " database.sqlite\t\t\t        IMG_20230624_202838_762.jpg\n",
            " db-issues.txt\t\t\t\t        IMG_20230901_064604_552.jpg\n",
            "'dbn-wrif-cgx - Jul 18, 2024.gjam'\t        IMG_20230911_231531_879.jpg\n",
            "'Development Phase.docx'\t\t        IMG_20231001_085144_048.jpg\n",
            " download.pdf\t\t\t\t        IMG_20231001_085144_107.jpg\n",
            " emo.zip\t\t\t\t        IMG_20231001_085806_802.jpg\n",
            " HAR06182-01.jpeg\t\t\t        IMG_20231108_210333_443.jpg\n",
            " hey.zip\t\t\t\t        IMG_20231108_211016_054.jpg\n",
            " human.zip\t\t\t\t       'kiwisedutech worksheet .gsheet'\n",
            "'IBM CC0101EN Certificate | TNSD Corporation'  'Maternal Health Risk Data Set.csv'\n",
            " IMG_20201108_110614_792.jpg\t\t       'My Drive'\n",
            " IMG_20201117_102153_330.jpg\t\t        netflix_titles.csv\n",
            " IMG_20201121_104837_533.jpg\t\t       'PBL-NT-GP--1431-1680514050-main (1).zip'\n",
            " IMG_20201122_073650_896.jpg\t\t        PBL-NT-GP--1431-1680514050-main.zip\n",
            " IMG_20201207_140333_320.jpg\t\t        penguins_size.csv\n",
            " IMG_20201214_183244_316.jpg\t\t        person_1.zip\n",
            " IMG_20201220_152033_197.jpg\t\t       'physics 1.pdf'\n",
            " IMG_20210103_192513_595.jpg\t\t       'physics cia 2.pdf'\n",
            " IMG_20210111_153453_194.jpg\t\t       'physics slip3.pdf'\n",
            " IMG_20210124_154241_475.jpg\t\t       'Portfolio (1).gslides'\n",
            " IMG_20210203_122532_045.jpg\t\t        Portfolio.gslides\n",
            " IMG_20210208_115421_791.jpg\t\t        red\n",
            " IMG_20210502_190400_345.jpg\t\t       'Resume (1).gdoc'\n",
            " IMG_20210506_080300_926.jpg\t\t       'Resume (2).gdoc'\n",
            " IMG_20210511_110330_019.jpg\t\t       'Resume DB.pdf'\n",
            " IMG_20210524_090323_982.jpg\t\t       'Resume DS.pdf'\n",
            " IMG_20210526_083842_036.jpg\t\t        ResumeDS.pdf\n",
            " IMG_20210727_213922_300.jpg\t\t        Resume.gdoc\n",
            " IMG_20210730_204616_065.jpg\t\t        Reviews.csv\n",
            " IMG_20210802_204623_625.jpg\t\t        santander-customer-transaction-prediction.zip\n",
            " IMG_20210808_090635_854.jpg\t\t       'Screen Recording 2023-05-20 at 8.13.23 PM.mov'\n",
            " IMG_20210813_094120_004.jpg\t\t       'Screen Recording 2023-05-20 at 8.14.49 PM.mov'\n",
            " IMG_20210813_094435_520.jpg\t\t       'Screen Recording 2024-10-04 at 9.42.29 AM.mp4'\n",
            " IMG_20211219_185940_061.jpg\t\t       'Screenshot 2023-10-19 at 11.13.21 AM.png'\n",
            " IMG_20211220_202745_542.jpg\t\t        Sleeping_Disorder_Project.ipynb\n",
            " IMG_20220331_220208_647.jpg\t\t        sugar1.zip\n",
            " IMG_20220623_202151_672.jpg\t\t       'To-do list.gsheet'\n",
            " IMG_20221004_194848_335.jpg\t\t        ulmfit-training.txt\n",
            " IMG_20221007_095726_407.webp\t\t       'Untitled document.gdoc'\n",
            " IMG_20221203_115650_728.jpg\t\t       'Untitled spreadsheet.gsheet'\n",
            " IMG_20221206_221519_126.jpg\t\t       'Zoho CheatSheet.gdoc'\n",
            " IMG_20221211_114412_163.jpg\n"
          ]
        }
      ]
    },
    {
      "cell_type": "code",
      "source": [
        "!unzip /mydrive/santander-customer-transaction-prediction.zip\n"
      ],
      "metadata": {
        "colab": {
          "base_uri": "https://localhost:8080/"
        },
        "id": "NOtnSVK2VU1S",
        "outputId": "d955116c-fb91-4f79-82e5-12821c24bf20"
      },
      "execution_count": null,
      "outputs": [
        {
          "output_type": "stream",
          "name": "stdout",
          "text": [
            "Archive:  /mydrive/santander-customer-transaction-prediction.zip\n",
            "  inflating: sample_submission.csv   \n",
            "  inflating: test.csv                \n",
            "  inflating: train.csv               \n"
          ]
        }
      ]
    },
    {
      "cell_type": "code",
      "source": [
        "df = pd.read_csv('train.csv')"
      ],
      "metadata": {
        "id": "TfwVImANVUzG"
      },
      "execution_count": null,
      "outputs": []
    },
    {
      "cell_type": "code",
      "source": [
        "df.shape"
      ],
      "metadata": {
        "colab": {
          "base_uri": "https://localhost:8080/"
        },
        "id": "JNf9lKkBVezc",
        "outputId": "82f7cd19-d886-4a71-af6b-66a5ec0071d8"
      },
      "execution_count": null,
      "outputs": [
        {
          "output_type": "execute_result",
          "data": {
            "text/plain": [
              "(200000, 202)"
            ]
          },
          "metadata": {},
          "execution_count": 15
        }
      ]
    },
    {
      "cell_type": "code",
      "source": [
        "df.head()"
      ],
      "metadata": {
        "colab": {
          "base_uri": "https://localhost:8080/",
          "height": 256
        },
        "id": "PjFDuZ_pVUwx",
        "outputId": "82dcc06b-072b-4705-b1e5-6efe07b374a5"
      },
      "execution_count": null,
      "outputs": [
        {
          "output_type": "execute_result",
          "data": {
            "text/plain": [
              "   ID_code  target    var_0   var_1    var_2   var_3    var_4   var_5   var_6  \\\n",
              "0  train_0       0   8.9255 -6.7863  11.9081  5.0930  11.4607 -9.2834  5.1187   \n",
              "1  train_1       0  11.5006 -4.1473  13.8588  5.3890  12.3622  7.0433  5.6208   \n",
              "2  train_2       0   8.6093 -2.7457  12.0805  7.8928  10.5825 -9.0837  6.9427   \n",
              "3  train_3       0  11.0604 -2.1518   8.9522  7.1957  12.5846 -1.8361  5.8428   \n",
              "4  train_4       0   9.8369 -1.4834  12.8746  6.6375  12.2772  2.4486  5.9405   \n",
              "\n",
              "     var_7  ...  var_190  var_191  var_192  var_193  var_194  var_195  \\\n",
              "0  18.6266  ...   4.4354   3.9642   3.1364   1.6910  18.5227  -2.3978   \n",
              "1  16.5338  ...   7.6421   7.7214   2.5837  10.9516  15.4305   2.0339   \n",
              "2  14.6155  ...   2.9057   9.7905   1.6704   1.6858  21.6042   3.1417   \n",
              "3  14.9250  ...   4.4666   4.7433   0.7178   1.4214  23.0347  -1.2706   \n",
              "4  19.2514  ...  -1.4905   9.5214  -0.1508   9.1942  13.2876  -1.5121   \n",
              "\n",
              "   var_196  var_197  var_198  var_199  \n",
              "0   7.8784   8.5635  12.7803  -1.0914  \n",
              "1   8.1267   8.7889  18.3560   1.9518  \n",
              "2  -6.5213   8.2675  14.7222   0.3965  \n",
              "3  -2.9275  10.2922  17.9697  -8.9996  \n",
              "4   3.9267   9.5031  17.9974  -8.8104  \n",
              "\n",
              "[5 rows x 202 columns]"
            ],
            "text/html": [
              "\n",
              "  <div id=\"df-5228377b-e8fd-4eaa-b788-ecbf831e0a73\" class=\"colab-df-container\">\n",
              "    <div>\n",
              "<style scoped>\n",
              "    .dataframe tbody tr th:only-of-type {\n",
              "        vertical-align: middle;\n",
              "    }\n",
              "\n",
              "    .dataframe tbody tr th {\n",
              "        vertical-align: top;\n",
              "    }\n",
              "\n",
              "    .dataframe thead th {\n",
              "        text-align: right;\n",
              "    }\n",
              "</style>\n",
              "<table border=\"1\" class=\"dataframe\">\n",
              "  <thead>\n",
              "    <tr style=\"text-align: right;\">\n",
              "      <th></th>\n",
              "      <th>ID_code</th>\n",
              "      <th>target</th>\n",
              "      <th>var_0</th>\n",
              "      <th>var_1</th>\n",
              "      <th>var_2</th>\n",
              "      <th>var_3</th>\n",
              "      <th>var_4</th>\n",
              "      <th>var_5</th>\n",
              "      <th>var_6</th>\n",
              "      <th>var_7</th>\n",
              "      <th>...</th>\n",
              "      <th>var_190</th>\n",
              "      <th>var_191</th>\n",
              "      <th>var_192</th>\n",
              "      <th>var_193</th>\n",
              "      <th>var_194</th>\n",
              "      <th>var_195</th>\n",
              "      <th>var_196</th>\n",
              "      <th>var_197</th>\n",
              "      <th>var_198</th>\n",
              "      <th>var_199</th>\n",
              "    </tr>\n",
              "  </thead>\n",
              "  <tbody>\n",
              "    <tr>\n",
              "      <th>0</th>\n",
              "      <td>train_0</td>\n",
              "      <td>0</td>\n",
              "      <td>8.9255</td>\n",
              "      <td>-6.7863</td>\n",
              "      <td>11.9081</td>\n",
              "      <td>5.0930</td>\n",
              "      <td>11.4607</td>\n",
              "      <td>-9.2834</td>\n",
              "      <td>5.1187</td>\n",
              "      <td>18.6266</td>\n",
              "      <td>...</td>\n",
              "      <td>4.4354</td>\n",
              "      <td>3.9642</td>\n",
              "      <td>3.1364</td>\n",
              "      <td>1.6910</td>\n",
              "      <td>18.5227</td>\n",
              "      <td>-2.3978</td>\n",
              "      <td>7.8784</td>\n",
              "      <td>8.5635</td>\n",
              "      <td>12.7803</td>\n",
              "      <td>-1.0914</td>\n",
              "    </tr>\n",
              "    <tr>\n",
              "      <th>1</th>\n",
              "      <td>train_1</td>\n",
              "      <td>0</td>\n",
              "      <td>11.5006</td>\n",
              "      <td>-4.1473</td>\n",
              "      <td>13.8588</td>\n",
              "      <td>5.3890</td>\n",
              "      <td>12.3622</td>\n",
              "      <td>7.0433</td>\n",
              "      <td>5.6208</td>\n",
              "      <td>16.5338</td>\n",
              "      <td>...</td>\n",
              "      <td>7.6421</td>\n",
              "      <td>7.7214</td>\n",
              "      <td>2.5837</td>\n",
              "      <td>10.9516</td>\n",
              "      <td>15.4305</td>\n",
              "      <td>2.0339</td>\n",
              "      <td>8.1267</td>\n",
              "      <td>8.7889</td>\n",
              "      <td>18.3560</td>\n",
              "      <td>1.9518</td>\n",
              "    </tr>\n",
              "    <tr>\n",
              "      <th>2</th>\n",
              "      <td>train_2</td>\n",
              "      <td>0</td>\n",
              "      <td>8.6093</td>\n",
              "      <td>-2.7457</td>\n",
              "      <td>12.0805</td>\n",
              "      <td>7.8928</td>\n",
              "      <td>10.5825</td>\n",
              "      <td>-9.0837</td>\n",
              "      <td>6.9427</td>\n",
              "      <td>14.6155</td>\n",
              "      <td>...</td>\n",
              "      <td>2.9057</td>\n",
              "      <td>9.7905</td>\n",
              "      <td>1.6704</td>\n",
              "      <td>1.6858</td>\n",
              "      <td>21.6042</td>\n",
              "      <td>3.1417</td>\n",
              "      <td>-6.5213</td>\n",
              "      <td>8.2675</td>\n",
              "      <td>14.7222</td>\n",
              "      <td>0.3965</td>\n",
              "    </tr>\n",
              "    <tr>\n",
              "      <th>3</th>\n",
              "      <td>train_3</td>\n",
              "      <td>0</td>\n",
              "      <td>11.0604</td>\n",
              "      <td>-2.1518</td>\n",
              "      <td>8.9522</td>\n",
              "      <td>7.1957</td>\n",
              "      <td>12.5846</td>\n",
              "      <td>-1.8361</td>\n",
              "      <td>5.8428</td>\n",
              "      <td>14.9250</td>\n",
              "      <td>...</td>\n",
              "      <td>4.4666</td>\n",
              "      <td>4.7433</td>\n",
              "      <td>0.7178</td>\n",
              "      <td>1.4214</td>\n",
              "      <td>23.0347</td>\n",
              "      <td>-1.2706</td>\n",
              "      <td>-2.9275</td>\n",
              "      <td>10.2922</td>\n",
              "      <td>17.9697</td>\n",
              "      <td>-8.9996</td>\n",
              "    </tr>\n",
              "    <tr>\n",
              "      <th>4</th>\n",
              "      <td>train_4</td>\n",
              "      <td>0</td>\n",
              "      <td>9.8369</td>\n",
              "      <td>-1.4834</td>\n",
              "      <td>12.8746</td>\n",
              "      <td>6.6375</td>\n",
              "      <td>12.2772</td>\n",
              "      <td>2.4486</td>\n",
              "      <td>5.9405</td>\n",
              "      <td>19.2514</td>\n",
              "      <td>...</td>\n",
              "      <td>-1.4905</td>\n",
              "      <td>9.5214</td>\n",
              "      <td>-0.1508</td>\n",
              "      <td>9.1942</td>\n",
              "      <td>13.2876</td>\n",
              "      <td>-1.5121</td>\n",
              "      <td>3.9267</td>\n",
              "      <td>9.5031</td>\n",
              "      <td>17.9974</td>\n",
              "      <td>-8.8104</td>\n",
              "    </tr>\n",
              "  </tbody>\n",
              "</table>\n",
              "<p>5 rows × 202 columns</p>\n",
              "</div>\n",
              "    <div class=\"colab-df-buttons\">\n",
              "\n",
              "  <div class=\"colab-df-container\">\n",
              "    <button class=\"colab-df-convert\" onclick=\"convertToInteractive('df-5228377b-e8fd-4eaa-b788-ecbf831e0a73')\"\n",
              "            title=\"Convert this dataframe to an interactive table.\"\n",
              "            style=\"display:none;\">\n",
              "\n",
              "  <svg xmlns=\"http://www.w3.org/2000/svg\" height=\"24px\" viewBox=\"0 -960 960 960\">\n",
              "    <path d=\"M120-120v-720h720v720H120Zm60-500h600v-160H180v160Zm220 220h160v-160H400v160Zm0 220h160v-160H400v160ZM180-400h160v-160H180v160Zm440 0h160v-160H620v160ZM180-180h160v-160H180v160Zm440 0h160v-160H620v160Z\"/>\n",
              "  </svg>\n",
              "    </button>\n",
              "\n",
              "  <style>\n",
              "    .colab-df-container {\n",
              "      display:flex;\n",
              "      gap: 12px;\n",
              "    }\n",
              "\n",
              "    .colab-df-convert {\n",
              "      background-color: #E8F0FE;\n",
              "      border: none;\n",
              "      border-radius: 50%;\n",
              "      cursor: pointer;\n",
              "      display: none;\n",
              "      fill: #1967D2;\n",
              "      height: 32px;\n",
              "      padding: 0 0 0 0;\n",
              "      width: 32px;\n",
              "    }\n",
              "\n",
              "    .colab-df-convert:hover {\n",
              "      background-color: #E2EBFA;\n",
              "      box-shadow: 0px 1px 2px rgba(60, 64, 67, 0.3), 0px 1px 3px 1px rgba(60, 64, 67, 0.15);\n",
              "      fill: #174EA6;\n",
              "    }\n",
              "\n",
              "    .colab-df-buttons div {\n",
              "      margin-bottom: 4px;\n",
              "    }\n",
              "\n",
              "    [theme=dark] .colab-df-convert {\n",
              "      background-color: #3B4455;\n",
              "      fill: #D2E3FC;\n",
              "    }\n",
              "\n",
              "    [theme=dark] .colab-df-convert:hover {\n",
              "      background-color: #434B5C;\n",
              "      box-shadow: 0px 1px 3px 1px rgba(0, 0, 0, 0.15);\n",
              "      filter: drop-shadow(0px 1px 2px rgba(0, 0, 0, 0.3));\n",
              "      fill: #FFFFFF;\n",
              "    }\n",
              "  </style>\n",
              "\n",
              "    <script>\n",
              "      const buttonEl =\n",
              "        document.querySelector('#df-5228377b-e8fd-4eaa-b788-ecbf831e0a73 button.colab-df-convert');\n",
              "      buttonEl.style.display =\n",
              "        google.colab.kernel.accessAllowed ? 'block' : 'none';\n",
              "\n",
              "      async function convertToInteractive(key) {\n",
              "        const element = document.querySelector('#df-5228377b-e8fd-4eaa-b788-ecbf831e0a73');\n",
              "        const dataTable =\n",
              "          await google.colab.kernel.invokeFunction('convertToInteractive',\n",
              "                                                    [key], {});\n",
              "        if (!dataTable) return;\n",
              "\n",
              "        const docLinkHtml = 'Like what you see? Visit the ' +\n",
              "          '<a target=\"_blank\" href=https://colab.research.google.com/notebooks/data_table.ipynb>data table notebook</a>'\n",
              "          + ' to learn more about interactive tables.';\n",
              "        element.innerHTML = '';\n",
              "        dataTable['output_type'] = 'display_data';\n",
              "        await google.colab.output.renderOutput(dataTable, element);\n",
              "        const docLink = document.createElement('div');\n",
              "        docLink.innerHTML = docLinkHtml;\n",
              "        element.appendChild(docLink);\n",
              "      }\n",
              "    </script>\n",
              "  </div>\n",
              "\n",
              "\n",
              "<div id=\"df-42f1f1e3-8a44-4b77-9190-e5d4c04861de\">\n",
              "  <button class=\"colab-df-quickchart\" onclick=\"quickchart('df-42f1f1e3-8a44-4b77-9190-e5d4c04861de')\"\n",
              "            title=\"Suggest charts\"\n",
              "            style=\"display:none;\">\n",
              "\n",
              "<svg xmlns=\"http://www.w3.org/2000/svg\" height=\"24px\"viewBox=\"0 0 24 24\"\n",
              "     width=\"24px\">\n",
              "    <g>\n",
              "        <path d=\"M19 3H5c-1.1 0-2 .9-2 2v14c0 1.1.9 2 2 2h14c1.1 0 2-.9 2-2V5c0-1.1-.9-2-2-2zM9 17H7v-7h2v7zm4 0h-2V7h2v10zm4 0h-2v-4h2v4z\"/>\n",
              "    </g>\n",
              "</svg>\n",
              "  </button>\n",
              "\n",
              "<style>\n",
              "  .colab-df-quickchart {\n",
              "      --bg-color: #E8F0FE;\n",
              "      --fill-color: #1967D2;\n",
              "      --hover-bg-color: #E2EBFA;\n",
              "      --hover-fill-color: #174EA6;\n",
              "      --disabled-fill-color: #AAA;\n",
              "      --disabled-bg-color: #DDD;\n",
              "  }\n",
              "\n",
              "  [theme=dark] .colab-df-quickchart {\n",
              "      --bg-color: #3B4455;\n",
              "      --fill-color: #D2E3FC;\n",
              "      --hover-bg-color: #434B5C;\n",
              "      --hover-fill-color: #FFFFFF;\n",
              "      --disabled-bg-color: #3B4455;\n",
              "      --disabled-fill-color: #666;\n",
              "  }\n",
              "\n",
              "  .colab-df-quickchart {\n",
              "    background-color: var(--bg-color);\n",
              "    border: none;\n",
              "    border-radius: 50%;\n",
              "    cursor: pointer;\n",
              "    display: none;\n",
              "    fill: var(--fill-color);\n",
              "    height: 32px;\n",
              "    padding: 0;\n",
              "    width: 32px;\n",
              "  }\n",
              "\n",
              "  .colab-df-quickchart:hover {\n",
              "    background-color: var(--hover-bg-color);\n",
              "    box-shadow: 0 1px 2px rgba(60, 64, 67, 0.3), 0 1px 3px 1px rgba(60, 64, 67, 0.15);\n",
              "    fill: var(--button-hover-fill-color);\n",
              "  }\n",
              "\n",
              "  .colab-df-quickchart-complete:disabled,\n",
              "  .colab-df-quickchart-complete:disabled:hover {\n",
              "    background-color: var(--disabled-bg-color);\n",
              "    fill: var(--disabled-fill-color);\n",
              "    box-shadow: none;\n",
              "  }\n",
              "\n",
              "  .colab-df-spinner {\n",
              "    border: 2px solid var(--fill-color);\n",
              "    border-color: transparent;\n",
              "    border-bottom-color: var(--fill-color);\n",
              "    animation:\n",
              "      spin 1s steps(1) infinite;\n",
              "  }\n",
              "\n",
              "  @keyframes spin {\n",
              "    0% {\n",
              "      border-color: transparent;\n",
              "      border-bottom-color: var(--fill-color);\n",
              "      border-left-color: var(--fill-color);\n",
              "    }\n",
              "    20% {\n",
              "      border-color: transparent;\n",
              "      border-left-color: var(--fill-color);\n",
              "      border-top-color: var(--fill-color);\n",
              "    }\n",
              "    30% {\n",
              "      border-color: transparent;\n",
              "      border-left-color: var(--fill-color);\n",
              "      border-top-color: var(--fill-color);\n",
              "      border-right-color: var(--fill-color);\n",
              "    }\n",
              "    40% {\n",
              "      border-color: transparent;\n",
              "      border-right-color: var(--fill-color);\n",
              "      border-top-color: var(--fill-color);\n",
              "    }\n",
              "    60% {\n",
              "      border-color: transparent;\n",
              "      border-right-color: var(--fill-color);\n",
              "    }\n",
              "    80% {\n",
              "      border-color: transparent;\n",
              "      border-right-color: var(--fill-color);\n",
              "      border-bottom-color: var(--fill-color);\n",
              "    }\n",
              "    90% {\n",
              "      border-color: transparent;\n",
              "      border-bottom-color: var(--fill-color);\n",
              "    }\n",
              "  }\n",
              "</style>\n",
              "\n",
              "  <script>\n",
              "    async function quickchart(key) {\n",
              "      const quickchartButtonEl =\n",
              "        document.querySelector('#' + key + ' button');\n",
              "      quickchartButtonEl.disabled = true;  // To prevent multiple clicks.\n",
              "      quickchartButtonEl.classList.add('colab-df-spinner');\n",
              "      try {\n",
              "        const charts = await google.colab.kernel.invokeFunction(\n",
              "            'suggestCharts', [key], {});\n",
              "      } catch (error) {\n",
              "        console.error('Error during call to suggestCharts:', error);\n",
              "      }\n",
              "      quickchartButtonEl.classList.remove('colab-df-spinner');\n",
              "      quickchartButtonEl.classList.add('colab-df-quickchart-complete');\n",
              "    }\n",
              "    (() => {\n",
              "      let quickchartButtonEl =\n",
              "        document.querySelector('#df-42f1f1e3-8a44-4b77-9190-e5d4c04861de button');\n",
              "      quickchartButtonEl.style.display =\n",
              "        google.colab.kernel.accessAllowed ? 'block' : 'none';\n",
              "    })();\n",
              "  </script>\n",
              "</div>\n",
              "\n",
              "    </div>\n",
              "  </div>\n"
            ],
            "application/vnd.google.colaboratory.intrinsic+json": {
              "type": "dataframe",
              "variable_name": "df"
            }
          },
          "metadata": {},
          "execution_count": 7
        }
      ]
    },
    {
      "cell_type": "code",
      "source": [
        "x = df.drop(['target','ID_code'],axis=1)\n",
        "y = df['target']"
      ],
      "metadata": {
        "id": "qldU8QMiVT9o"
      },
      "execution_count": null,
      "outputs": []
    },
    {
      "cell_type": "code",
      "source": [
        "x_train,x_valid,y_train,y_valid = train_test_split(x,y,test_size=0.2,random_state=9786)"
      ],
      "metadata": {
        "id": "18gWRoV3VkTZ"
      },
      "execution_count": null,
      "outputs": []
    },
    {
      "cell_type": "code",
      "source": [],
      "metadata": {
        "id": "2QZczh4IVkO0"
      },
      "execution_count": null,
      "outputs": []
    },
    {
      "cell_type": "code",
      "source": [
        "xg = XGBClassifier(learning_rate=0.05 ,max_depth=2,early_stopping_rounds=10 ,n_estimators=5000, subsample=0.5, colsmaple_bytree=0.25, eval_matric='auc',verbosity=1)\n"
      ],
      "metadata": {
        "id": "uRtufMxUFjK2"
      },
      "execution_count": null,
      "outputs": []
    },
    {
      "cell_type": "code",
      "source": [
        "eval_set = [(x_valid,y_valid)]\n"
      ],
      "metadata": {
        "id": "hMPdGgXBVzsa"
      },
      "execution_count": null,
      "outputs": []
    },
    {
      "cell_type": "code",
      "source": [
        "model = xg.fit(x_train, y_train,eval_set = eval_set, verbose=True  )"
      ],
      "metadata": {
        "colab": {
          "base_uri": "https://localhost:8080/"
        },
        "id": "CDoB4CtTV0ez",
        "outputId": "50b75dfb-7c94-4d23-db85-bf45f62e4ca1"
      },
      "execution_count": null,
      "outputs": [
        {
          "output_type": "stream",
          "name": "stderr",
          "text": [
            "/usr/local/lib/python3.10/dist-packages/xgboost/core.py:158: UserWarning: [14:54:24] WARNING: /workspace/src/learner.cc:740: \n",
            "Parameters: { \"colsmaple_bytree\", \"eval_matric\" } are not used.\n",
            "\n",
            "  warnings.warn(smsg, UserWarning)\n"
          ]
        },
        {
          "output_type": "stream",
          "name": "stdout",
          "text": [
            "[0]\tvalidation_0-logloss:0.34473\n",
            "[1]\tvalidation_0-logloss:0.34329\n",
            "[2]\tvalidation_0-logloss:0.34195\n",
            "[3]\tvalidation_0-logloss:0.34075\n",
            "[4]\tvalidation_0-logloss:0.33964\n",
            "[5]\tvalidation_0-logloss:0.33862\n",
            "[6]\tvalidation_0-logloss:0.33769\n",
            "[7]\tvalidation_0-logloss:0.33683\n",
            "[8]\tvalidation_0-logloss:0.33608\n",
            "[9]\tvalidation_0-logloss:0.33537\n",
            "[10]\tvalidation_0-logloss:0.33470\n",
            "[11]\tvalidation_0-logloss:0.33411\n",
            "[12]\tvalidation_0-logloss:0.33356\n",
            "[13]\tvalidation_0-logloss:0.33309\n",
            "[14]\tvalidation_0-logloss:0.33266\n",
            "[15]\tvalidation_0-logloss:0.33226\n",
            "[16]\tvalidation_0-logloss:0.33190\n",
            "[17]\tvalidation_0-logloss:0.33156\n",
            "[18]\tvalidation_0-logloss:0.33126\n",
            "[19]\tvalidation_0-logloss:0.33098\n",
            "[20]\tvalidation_0-logloss:0.33074\n",
            "[21]\tvalidation_0-logloss:0.33052\n",
            "[22]\tvalidation_0-logloss:0.33030\n",
            "[23]\tvalidation_0-logloss:0.33010\n",
            "[24]\tvalidation_0-logloss:0.32991\n",
            "[25]\tvalidation_0-logloss:0.32976\n",
            "[26]\tvalidation_0-logloss:0.32962\n",
            "[27]\tvalidation_0-logloss:0.32949\n",
            "[28]\tvalidation_0-logloss:0.32937\n",
            "[29]\tvalidation_0-logloss:0.32927\n",
            "[30]\tvalidation_0-logloss:0.32919\n",
            "[31]\tvalidation_0-logloss:0.32910\n",
            "[32]\tvalidation_0-logloss:0.32900\n",
            "[33]\tvalidation_0-logloss:0.32892\n",
            "[34]\tvalidation_0-logloss:0.32886\n",
            "[35]\tvalidation_0-logloss:0.32881\n",
            "[36]\tvalidation_0-logloss:0.32876\n",
            "[37]\tvalidation_0-logloss:0.32872\n",
            "[38]\tvalidation_0-logloss:0.32868\n",
            "[39]\tvalidation_0-logloss:0.32864\n",
            "[40]\tvalidation_0-logloss:0.32862\n",
            "[41]\tvalidation_0-logloss:0.32860\n",
            "[42]\tvalidation_0-logloss:0.32856\n",
            "[43]\tvalidation_0-logloss:0.32854\n",
            "[44]\tvalidation_0-logloss:0.32852\n",
            "[45]\tvalidation_0-logloss:0.32851\n",
            "[46]\tvalidation_0-logloss:0.32848\n",
            "[47]\tvalidation_0-logloss:0.32847\n",
            "[48]\tvalidation_0-logloss:0.32846\n",
            "[49]\tvalidation_0-logloss:0.32844\n",
            "[50]\tvalidation_0-logloss:0.32844\n",
            "[51]\tvalidation_0-logloss:0.32843\n",
            "[52]\tvalidation_0-logloss:0.32842\n",
            "[53]\tvalidation_0-logloss:0.32841\n",
            "[54]\tvalidation_0-logloss:0.32841\n",
            "[55]\tvalidation_0-logloss:0.32842\n",
            "[56]\tvalidation_0-logloss:0.32841\n",
            "[57]\tvalidation_0-logloss:0.32841\n",
            "[58]\tvalidation_0-logloss:0.32840\n",
            "[59]\tvalidation_0-logloss:0.32840\n",
            "[60]\tvalidation_0-logloss:0.32840\n",
            "[61]\tvalidation_0-logloss:0.32839\n",
            "[62]\tvalidation_0-logloss:0.32840\n",
            "[63]\tvalidation_0-logloss:0.32840\n",
            "[64]\tvalidation_0-logloss:0.32839\n",
            "[65]\tvalidation_0-logloss:0.32839\n",
            "[66]\tvalidation_0-logloss:0.32838\n",
            "[67]\tvalidation_0-logloss:0.32837\n",
            "[68]\tvalidation_0-logloss:0.32837\n",
            "[69]\tvalidation_0-logloss:0.32836\n",
            "[70]\tvalidation_0-logloss:0.32835\n",
            "[71]\tvalidation_0-logloss:0.32835\n",
            "[72]\tvalidation_0-logloss:0.32835\n",
            "[73]\tvalidation_0-logloss:0.32836\n",
            "[74]\tvalidation_0-logloss:0.32835\n",
            "[75]\tvalidation_0-logloss:0.32837\n",
            "[76]\tvalidation_0-logloss:0.32836\n",
            "[77]\tvalidation_0-logloss:0.32836\n",
            "[78]\tvalidation_0-logloss:0.32836\n",
            "[79]\tvalidation_0-logloss:0.32836\n",
            "[80]\tvalidation_0-logloss:0.32837\n"
          ]
        }
      ]
    },
    {
      "cell_type": "code",
      "source": [
        "pre = model.predict(x_valid)"
      ],
      "metadata": {
        "id": "ryJfJwzGaeU2"
      },
      "execution_count": null,
      "outputs": []
    },
    {
      "cell_type": "code",
      "source": [
        "print(accuracy_score(pre,y_valid))"
      ],
      "metadata": {
        "colab": {
          "base_uri": "https://localhost:8080/"
        },
        "id": "miB1PAZ5XCi7",
        "outputId": "537c495a-e951-44c2-8505-55929cba6b4e"
      },
      "execution_count": null,
      "outputs": [
        {
          "output_type": "stream",
          "name": "stdout",
          "text": [
            "0.9104\n"
          ]
        }
      ]
    },
    {
      "cell_type": "code",
      "source": [
        "ts =pd.read_csv('test.csv')"
      ],
      "metadata": {
        "id": "fNGsEse6aTxf"
      },
      "execution_count": null,
      "outputs": []
    },
    {
      "cell_type": "code",
      "source": [
        "x = ts.drop(['ID_code'],axis=1)"
      ],
      "metadata": {
        "id": "p8CASnF2c_Qy"
      },
      "execution_count": null,
      "outputs": []
    },
    {
      "cell_type": "code",
      "source": [
        "pred = model.predict(x)"
      ],
      "metadata": {
        "id": "Q2_dunD2c_OX"
      },
      "execution_count": null,
      "outputs": []
    },
    {
      "cell_type": "code",
      "source": [
        "sc = pd.read_csv('sample_submission.csv')"
      ],
      "metadata": {
        "id": "bxZFIzj7c_L9"
      },
      "execution_count": null,
      "outputs": []
    },
    {
      "cell_type": "code",
      "source": [
        "sc = sc['target']"
      ],
      "metadata": {
        "id": "Xf7nN04zdDRa"
      },
      "execution_count": null,
      "outputs": []
    },
    {
      "cell_type": "code",
      "source": [
        "print(accuracy_score(pred,sc))"
      ],
      "metadata": {
        "colab": {
          "base_uri": "https://localhost:8080/"
        },
        "id": "RHYX56GbdDPq",
        "outputId": "93d4c643-dc24-4e5c-b29a-4bfb64573717"
      },
      "execution_count": null,
      "outputs": [
        {
          "output_type": "stream",
          "name": "stdout",
          "text": [
            "0.9824\n"
          ]
        }
      ]
    },
    {
      "cell_type": "code",
      "source": [],
      "metadata": {
        "id": "_RxoZ-mfdDNS"
      },
      "execution_count": null,
      "outputs": []
    },
    {
      "cell_type": "code",
      "source": [],
      "metadata": {
        "id": "7dwCGW0vdDLD"
      },
      "execution_count": null,
      "outputs": []
    }
  ]
}
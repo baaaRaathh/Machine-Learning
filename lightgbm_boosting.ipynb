{
  "nbformat": 4,
  "nbformat_minor": 0,
  "metadata": {
    "colab": {
      "provenance": [],
      "gpuType": "T4",
      "authorship_tag": "ABX9TyNK3Wq0YjYoFnoRhKQ0QgJs",
      "include_colab_link": true
    },
    "kernelspec": {
      "name": "python3",
      "display_name": "Python 3"
    },
    "language_info": {
      "name": "python"
    },
    "accelerator": "GPU"
  },
  "cells": [
    {
      "cell_type": "markdown",
      "metadata": {
        "id": "view-in-github",
        "colab_type": "text"
      },
      "source": [
        "<a href=\"https://colab.research.google.com/github/baaaRaathh/Machine-Learning/blob/main/lightgbm_boosting.ipynb\" target=\"_parent\"><img src=\"https://colab.research.google.com/assets/colab-badge.svg\" alt=\"Open In Colab\"/></a>"
      ]
    },
    {
      "cell_type": "code",
      "execution_count": null,
      "metadata": {
        "id": "2SQWhKe5-hA0"
      },
      "outputs": [],
      "source": [
        "import numpy as np\n",
        "import pandas as pd\n",
        "from sklearn.model_selection import train_test_split\n",
        "from sklearn.metrics import roc_auc_score,accuracy_score\n",
        "import lightgbm"
      ]
    },
    {
      "cell_type": "code",
      "source": [
        "from google.colab import drive\n",
        "drive.mount('/content/gdrive')\n",
        "!ln -s /content/gdrive/My\\ Drive/ /mydrive\n",
        "!ls /mydrive"
      ],
      "metadata": {
        "id": "NlIV_jTY-7Md",
        "colab": {
          "base_uri": "https://localhost:8080/"
        },
        "outputId": "85228d4b-92fc-4447-f084-7e677a56943d",
        "collapsed": true
      },
      "execution_count": null,
      "outputs": [
        {
          "output_type": "stream",
          "name": "stdout",
          "text": [
            "Mounted at /content/gdrive\n",
            "'8 Sem Marksheet.jpeg'\t\t\t        IMG_20221223_135900_364.jpg\n",
            "'archive (7).zip'\t\t\t        IMG_20230102_232317_996.jpg\n",
            " audio_tests.txt\t\t\t        IMG_20230107_105458_039.jpg\n",
            " audio-utterances-3s.txt\t\t        IMG_20230107_105620_645.jpg\n",
            "'Barath Analyst.pdf'\t\t\t        IMG_20230117_173406_965.jpg\n",
            "'barath .gdoc'\t\t\t\t        IMG_20230117_230955_776.jpg\n",
            " BarathKumarSResume.gdoc\t\t        IMG_20230117_230955_825.jpg\n",
            "'barath Machine Learning.pdf'\t\t        IMG_20230122_234928_456.jpg\n",
            "\"barath's resume.pdf\"\t\t\t        IMG_20230122_235156_068.jpg\n",
            " can.zip\t\t\t\t        IMG_20230423_094226_853.jpg\n",
            "'Colab Notebooks'\t\t\t        IMG_20230423_094642_818.jpg\n",
            " Consumer_Complaints.csv\t\t        IMG_20230601_103428_153.jpg\n",
            "'Copy of barath Machine Learning.pdf'\t        IMG_20230601_103516_958.jpg\n",
            "'cyber resume (1).gdoc'\t\t\t        IMG_20230608_151417_625.jpg\n",
            " database.sqlite\t\t\t        IMG_20230624_202838_762.jpg\n",
            " db-issues.txt\t\t\t\t        IMG_20230901_064604_552.jpg\n",
            "'dbn-wrif-cgx - Jul 18, 2024.gjam'\t        IMG_20230911_231531_879.jpg\n",
            "'Development Phase.docx'\t\t        IMG_20231001_085144_048.jpg\n",
            " download.pdf\t\t\t\t        IMG_20231001_085144_107.jpg\n",
            " emo.zip\t\t\t\t        IMG_20231001_085806_802.jpg\n",
            " HAR06182-01.jpeg\t\t\t        IMG_20231108_210333_443.jpg\n",
            " hey.zip\t\t\t\t        IMG_20231108_211016_054.jpg\n",
            " human.zip\t\t\t\t       'kiwisedutech worksheet .gsheet'\n",
            "'IBM CC0101EN Certificate | TNSD Corporation'  'Maternal Health Risk Data Set.csv'\n",
            " IMG_20201108_110614_792.jpg\t\t       'My Drive'\n",
            " IMG_20201117_102153_330.jpg\t\t        netflix_titles.csv\n",
            " IMG_20201121_104837_533.jpg\t\t       'PBL-NT-GP--1431-1680514050-main (1).zip'\n",
            " IMG_20201122_073650_896.jpg\t\t        PBL-NT-GP--1431-1680514050-main.zip\n",
            " IMG_20201207_140333_320.jpg\t\t        penguins_size.csv\n",
            " IMG_20201214_183244_316.jpg\t\t        person_1.zip\n",
            " IMG_20201220_152033_197.jpg\t\t       'physics 1.pdf'\n",
            " IMG_20210103_192513_595.jpg\t\t       'physics cia 2.pdf'\n",
            " IMG_20210111_153453_194.jpg\t\t       'physics slip3.pdf'\n",
            " IMG_20210124_154241_475.jpg\t\t       'Portfolio (1).gslides'\n",
            " IMG_20210203_122532_045.jpg\t\t        Portfolio.gslides\n",
            " IMG_20210208_115421_791.jpg\t\t        red\n",
            " IMG_20210502_190400_345.jpg\t\t       'Resume (1).gdoc'\n",
            " IMG_20210506_080300_926.jpg\t\t       'Resume (2).gdoc'\n",
            " IMG_20210511_110330_019.jpg\t\t       'Resume DB.pdf'\n",
            " IMG_20210524_090323_982.jpg\t\t       'Resume DS.pdf'\n",
            " IMG_20210526_083842_036.jpg\t\t        ResumeDS.pdf\n",
            " IMG_20210727_213922_300.jpg\t\t        Resume.gdoc\n",
            " IMG_20210730_204616_065.jpg\t\t        Reviews.csv\n",
            " IMG_20210802_204623_625.jpg\t\t        santander-customer-transaction-prediction.zip\n",
            " IMG_20210808_090635_854.jpg\t\t       'Screen Recording 2023-05-20 at 8.13.23 PM.mov'\n",
            " IMG_20210813_094120_004.jpg\t\t       'Screen Recording 2023-05-20 at 8.14.49 PM.mov'\n",
            " IMG_20210813_094435_520.jpg\t\t       'Screen Recording 2024-10-04 at 9.42.29 AM.mp4'\n",
            " IMG_20211219_185940_061.jpg\t\t       'Screenshot 2023-10-19 at 11.13.21 AM.png'\n",
            " IMG_20211220_202745_542.jpg\t\t        Sleeping_Disorder_Project.ipynb\n",
            " IMG_20220331_220208_647.jpg\t\t        sugar1.zip\n",
            " IMG_20220623_202151_672.jpg\t\t       'To-do list.gsheet'\n",
            " IMG_20221004_194848_335.jpg\t\t        ulmfit-training.txt\n",
            " IMG_20221007_095726_407.webp\t\t       'Untitled document.gdoc'\n",
            " IMG_20221203_115650_728.jpg\t\t       'Untitled spreadsheet.gsheet'\n",
            " IMG_20221206_221519_126.jpg\t\t       'Zoho CheatSheet.gdoc'\n",
            " IMG_20221211_114412_163.jpg\n"
          ]
        }
      ]
    },
    {
      "cell_type": "code",
      "source": [
        "!unzip /mydrive/santander-customer-transaction-prediction.zip"
      ],
      "metadata": {
        "colab": {
          "base_uri": "https://localhost:8080/"
        },
        "id": "8SpZiu99SK_8",
        "outputId": "3898bd39-ff03-4ee9-8cce-a2a9e9cd7c38"
      },
      "execution_count": null,
      "outputs": [
        {
          "output_type": "stream",
          "name": "stdout",
          "text": [
            "Archive:  /mydrive/santander-customer-transaction-prediction.zip\n",
            "  inflating: sample_submission.csv   \n",
            "  inflating: test.csv                \n",
            "  inflating: train.csv               \n"
          ]
        }
      ]
    },
    {
      "cell_type": "code",
      "source": [
        "df = pd.read_csv('train.csv')"
      ],
      "metadata": {
        "id": "6j3IqEpQ_scw"
      },
      "execution_count": null,
      "outputs": []
    },
    {
      "cell_type": "code",
      "source": [
        "x = df.drop(['ID_code','target'],axis=1)\n",
        "y = df['target']\n",
        "x = x"
      ],
      "metadata": {
        "id": "TDxuXEcM_sfP"
      },
      "execution_count": null,
      "outputs": []
    },
    {
      "cell_type": "code",
      "source": [
        "x_train,x_test,y_train,y_test = train_test_split(x,y,test_size=0.2,random_state=00)"
      ],
      "metadata": {
        "id": "fafgdlAT_shn"
      },
      "execution_count": null,
      "outputs": []
    },
    {
      "cell_type": "code",
      "source": [
        "train = lightgbm.Dataset(x_train,label=y_train)\n",
        "test  = lightgbm.Dataset(x_test,label=y_test , reference=train)"
      ],
      "metadata": {
        "id": "jqfYNtaB_skQ"
      },
      "execution_count": null,
      "outputs": []
    },
    {
      "cell_type": "code",
      "source": [
        "\n",
        "parameters = {'objective': 'binary',  # this the classification problem so we use the binary\n",
        "              'metric': 'auc',       # area under the curve\n",
        "              'is_unbalance': 'true',  # my train data is equale split b/w 0 and 1 so im using the TRUE\n",
        "              'boosting': 'gbdt',       # gradiend boosting decisiom tree\n",
        "              'num_leaves': 63,    # number of leave in the model that will  creavted by GBDT (each tree that will create GDBT has a ^# leafs)\n",
        "              'feature_fraction': 0.5,   # the tree take half of the Freature independely its has benifite (all the model to train faster and previent overfitting)\n",
        "              'bagging_fraction': 0.5,   # its can take 50% of the Observation data or test data  --- the tree take half of the Freature independely its has benifite (all the model to train faster and previent overfitting)\n",
        "              'bagging_freq': 20,   #after the 20 itration gbt randomly select the 5-5 OF THE observation\n",
        "              'learning_rate': 0.01, # the every model that create they have weight of of 0.1\n",
        "              'verbose': -1,\n",
        "              'lambda_l1': 0.1,              # L1 regularization (lasso)\n",
        "              'lambda_l2': 0.2               # L2 regularization (ridge)\n",
        "\n",
        "             }"
      ],
      "metadata": {
        "id": "tU-bFsAACA3-"
      },
      "execution_count": null,
      "outputs": []
    },
    {
      "cell_type": "code",
      "source": [
        "model = lightgbm.train( parameters,train, valid_sets=test,num_boost_round=5000 )\n"
      ],
      "metadata": {
        "id": "sYI4Sl-AbrIv"
      },
      "execution_count": null,
      "outputs": []
    },
    {
      "cell_type": "code",
      "source": [
        "t =model.predict(x_train)"
      ],
      "metadata": {
        "id": "hHmRbFWUhO_E"
      },
      "execution_count": null,
      "outputs": []
    },
    {
      "cell_type": "code",
      "source": [
        "y_pred = model.predict(x_test)"
      ],
      "metadata": {
        "id": "eJF2uEYaFOjf"
      },
      "execution_count": null,
      "outputs": []
    },
    {
      "cell_type": "code",
      "source": [
        "pre_binary = [1 if p >= 0.5 else 0 for p in y_pred]\n",
        "print(accuracy_score(pre_binary, y_test))"
      ],
      "metadata": {
        "colab": {
          "base_uri": "https://localhost:8080/"
        },
        "id": "1BnwBbZYTXIM",
        "outputId": "08f51d1c-57c5-4fe6-8211-27ca4d259d2f"
      },
      "execution_count": null,
      "outputs": [
        {
          "output_type": "stream",
          "name": "stdout",
          "text": [
            "0.8995\n"
          ]
        }
      ]
    },
    {
      "cell_type": "code",
      "source": [
        "ts =pd.read_csv('test.csv')"
      ],
      "metadata": {
        "id": "lABtJkU4Te20"
      },
      "execution_count": null,
      "outputs": []
    },
    {
      "cell_type": "code",
      "source": [
        "x = ts.drop(['ID_code'],axis=1)"
      ],
      "metadata": {
        "id": "YGmLOWBQXIEW"
      },
      "execution_count": null,
      "outputs": []
    },
    {
      "cell_type": "code",
      "source": [
        "x = x[:10000]"
      ],
      "metadata": {
        "id": "nxHbZI1oXWqU"
      },
      "execution_count": null,
      "outputs": []
    },
    {
      "cell_type": "code",
      "source": [
        "pred = model.predict(x)"
      ],
      "metadata": {
        "id": "0m8tPTEhXLrz"
      },
      "execution_count": null,
      "outputs": []
    },
    {
      "cell_type": "code",
      "source": [
        "sc = pd.read_csv('sample_submission.csv')"
      ],
      "metadata": {
        "id": "WVca3m4ZXLjq"
      },
      "execution_count": null,
      "outputs": []
    },
    {
      "cell_type": "code",
      "source": [
        "sc = sc[:10000]\n",
        "pre_binary = [1 if p >= 0.5 else 0 for p in pred]\n"
      ],
      "metadata": {
        "id": "okfn7K6IYkzi"
      },
      "execution_count": null,
      "outputs": []
    },
    {
      "cell_type": "code",
      "source": [
        "sc = sc['target'][:10000]"
      ],
      "metadata": {
        "id": "CrK6iUuzgAGp"
      },
      "execution_count": null,
      "outputs": []
    },
    {
      "cell_type": "code",
      "source": [
        "print(accuracy_score(pre_binary,sc))"
      ],
      "metadata": {
        "colab": {
          "base_uri": "https://localhost:8080/"
        },
        "id": "OgIG_AjFXLZi",
        "outputId": "acd982b7-6aab-48b1-e423-af7a9d3aa660"
      },
      "execution_count": null,
      "outputs": [
        {
          "output_type": "stream",
          "name": "stdout",
          "text": [
            "0.9958\n"
          ]
        }
      ]
    },
    {
      "cell_type": "code",
      "source": [],
      "metadata": {
        "id": "rKdUEbRUXLXA"
      },
      "execution_count": null,
      "outputs": []
    }
  ]
}